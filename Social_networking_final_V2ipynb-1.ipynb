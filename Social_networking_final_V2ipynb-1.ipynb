{
  "nbformat": 4,
  "nbformat_minor": 0,
  "metadata": {
    "colab": {
      "provenance": []
    },
    "kernelspec": {
      "name": "python3",
      "display_name": "Python 3"
    },
    "language_info": {
      "name": "python"
    }
  },
  "cells": [
    {
      "cell_type": "code",
      "execution_count": null,
      "metadata": {
        "colab": {
          "base_uri": "https://localhost:8080/"
        },
        "id": "lplmB4QN_sS9",
        "outputId": "90d14552-cfb8-4d66-85e1-624ab5885a83"
      },
      "outputs": [
        {
          "output_type": "stream",
          "name": "stdout",
          "text": [
            "Mounted at /content/drive\n"
          ]
        }
      ],
      "source": [
        "from google.colab import drive\n",
        "drive.mount('/content/drive')"
      ]
    },
    {
      "cell_type": "code",
      "source": [
        "cd drive/MyDrive/Venmo/"
      ],
      "metadata": {
        "colab": {
          "base_uri": "https://localhost:8080/"
        },
        "id": "-M5vSYF2_x-5",
        "outputId": "72ba99c5-462c-4077-ed03-d58fc152056d"
      },
      "execution_count": null,
      "outputs": [
        {
          "output_type": "stream",
          "name": "stdout",
          "text": [
            "/content/drive/MyDrive/Venmo\n"
          ]
        }
      ]
    },
    {
      "cell_type": "code",
      "source": [
        "ls"
      ],
      "metadata": {
        "colab": {
          "base_uri": "https://localhost:8080/"
        },
        "id": "RhDS_MMe_z_Q",
        "outputId": "e454b84c-2633-48ce-f174-3b515de011b6"
      },
      "execution_count": null,
      "outputs": [
        {
          "output_type": "stream",
          "name": "stdout",
          "text": [
            " \u001b[0m\u001b[01;34mresult_new.parquet\u001b[0m/\n",
            " \u001b[01;34mresult.parquet\u001b[0m/\n",
            " Venmo_Emoji_Classification_Dictionary.csv\n",
            " VenmoSample.snappy.parquet\n",
            "'Venmo Word Classification Dictonary BAX-423.xlsx'\n"
          ]
        }
      ]
    },
    {
      "cell_type": "code",
      "source": [
        "# Initialize SparkSession with GraphFrames package\n",
        "from pyspark.sql import SparkSession\n",
        "\n",
        "spark = SparkSession.builder \\\n",
        "    .master(\"local[*]\") \\\n",
        "    .appName(\"VenmoHomework\") \\\n",
        "    .config(\"spark.jars.packages\", \"graphframes:graphframes:0.8.2-spark3.2-s_2.12\") \\\n",
        "    .getOrCreate()"
      ],
      "metadata": {
        "id": "I2HctXxy_5ua"
      },
      "execution_count": null,
      "outputs": []
    },
    {
      "cell_type": "code",
      "source": [
        "spark.conf.set(\"spark.sql.execution.arrow.pyspark.enabled\", \"true\")"
      ],
      "metadata": {
        "id": "AoeQLik-_-bF"
      },
      "execution_count": null,
      "outputs": []
    },
    {
      "cell_type": "code",
      "source": [
        "import pandas as pd\n",
        "from pyspark.sql import functions as F\n",
        "from pyspark.sql.functions import udf\n",
        "from pyspark.sql.types import ArrayType, StringType, BooleanType\n",
        "from functools import reduce\n",
        "import matplotlib.pyplot as plt\n",
        "from tqdm import tqdm"
      ],
      "metadata": {
        "id": "p-0PrS4eABPz"
      },
      "execution_count": null,
      "outputs": []
    },
    {
      "cell_type": "code",
      "source": [
        "from IPython import display, html"
      ],
      "metadata": {
        "colab": {
          "base_uri": "https://localhost:8080/"
        },
        "id": "DAiUjYcNADXl",
        "outputId": "db91f505-ef32-45b6-edd4-3019598c01e9"
      },
      "execution_count": null,
      "outputs": [
        {
          "output_type": "stream",
          "name": "stderr",
          "text": [
            "/usr/local/lib/python3.11/dist-packages/IPython/html.py:12: ShimWarning: The `IPython.html` package has been deprecated since IPython 4.0. You should import from `notebook` instead. `IPython.html.widgets` has moved to `ipywidgets`.\n",
            "  warn(\"The `IPython.html` package has been deprecated since IPython 4.0. \"\n"
          ]
        }
      ]
    },
    {
      "cell_type": "code",
      "source": [
        "# Read the Parquet file\n",
        "df = spark.read.parquet(\n",
        "    \"./VenmoSample.snappy.parquet\"\n",
        ")"
      ],
      "metadata": {
        "id": "cBG5QmNZAFUi"
      },
      "execution_count": null,
      "outputs": []
    },
    {
      "cell_type": "code",
      "source": [
        "df.limit(5).toPandas().head()"
      ],
      "metadata": {
        "colab": {
          "base_uri": "https://localhost:8080/",
          "height": 206
        },
        "id": "8aKvmZ91AHlb",
        "outputId": "f7dbc56a-623c-41e8-f312-550b68c84687"
      },
      "execution_count": null,
      "outputs": [
        {
          "output_type": "execute_result",
          "data": {
            "text/plain": [
              "     user1    user2 transaction_type            datetime   description  \\\n",
              "0  1218774  1528945          payment 2015-11-27 10:48:19          Uber   \n",
              "1  5109483  4782303          payment 2015-06-17 11:37:04        Costco   \n",
              "2  4322148  3392963          payment 2015-06-19 07:05:31  Sweaty balls   \n",
              "3   469894  1333620           charge 2016-06-03 23:34:13             🎥   \n",
              "4  2960727  3442373          payment 2016-05-29 23:23:42             ⚡   \n",
              "\n",
              "   is_business                  story_id  \n",
              "0        False  5657c473cd03c9af22cff874  \n",
              "1        False  5580f9702b64f70ab0114e94  \n",
              "2        False  55835ccb1a624b14ac62cef4  \n",
              "3        False  5751b185cd03c9af224c0d17  \n",
              "4        False  574b178ecd03c9af22cf67f4  "
            ],
            "text/html": [
              "\n",
              "  <div id=\"df-dcef8d66-69ed-4877-9bb8-437e202086ae\" class=\"colab-df-container\">\n",
              "    <div>\n",
              "<style scoped>\n",
              "    .dataframe tbody tr th:only-of-type {\n",
              "        vertical-align: middle;\n",
              "    }\n",
              "\n",
              "    .dataframe tbody tr th {\n",
              "        vertical-align: top;\n",
              "    }\n",
              "\n",
              "    .dataframe thead th {\n",
              "        text-align: right;\n",
              "    }\n",
              "</style>\n",
              "<table border=\"1\" class=\"dataframe\">\n",
              "  <thead>\n",
              "    <tr style=\"text-align: right;\">\n",
              "      <th></th>\n",
              "      <th>user1</th>\n",
              "      <th>user2</th>\n",
              "      <th>transaction_type</th>\n",
              "      <th>datetime</th>\n",
              "      <th>description</th>\n",
              "      <th>is_business</th>\n",
              "      <th>story_id</th>\n",
              "    </tr>\n",
              "  </thead>\n",
              "  <tbody>\n",
              "    <tr>\n",
              "      <th>0</th>\n",
              "      <td>1218774</td>\n",
              "      <td>1528945</td>\n",
              "      <td>payment</td>\n",
              "      <td>2015-11-27 10:48:19</td>\n",
              "      <td>Uber</td>\n",
              "      <td>False</td>\n",
              "      <td>5657c473cd03c9af22cff874</td>\n",
              "    </tr>\n",
              "    <tr>\n",
              "      <th>1</th>\n",
              "      <td>5109483</td>\n",
              "      <td>4782303</td>\n",
              "      <td>payment</td>\n",
              "      <td>2015-06-17 11:37:04</td>\n",
              "      <td>Costco</td>\n",
              "      <td>False</td>\n",
              "      <td>5580f9702b64f70ab0114e94</td>\n",
              "    </tr>\n",
              "    <tr>\n",
              "      <th>2</th>\n",
              "      <td>4322148</td>\n",
              "      <td>3392963</td>\n",
              "      <td>payment</td>\n",
              "      <td>2015-06-19 07:05:31</td>\n",
              "      <td>Sweaty balls</td>\n",
              "      <td>False</td>\n",
              "      <td>55835ccb1a624b14ac62cef4</td>\n",
              "    </tr>\n",
              "    <tr>\n",
              "      <th>3</th>\n",
              "      <td>469894</td>\n",
              "      <td>1333620</td>\n",
              "      <td>charge</td>\n",
              "      <td>2016-06-03 23:34:13</td>\n",
              "      <td>🎥</td>\n",
              "      <td>False</td>\n",
              "      <td>5751b185cd03c9af224c0d17</td>\n",
              "    </tr>\n",
              "    <tr>\n",
              "      <th>4</th>\n",
              "      <td>2960727</td>\n",
              "      <td>3442373</td>\n",
              "      <td>payment</td>\n",
              "      <td>2016-05-29 23:23:42</td>\n",
              "      <td>⚡</td>\n",
              "      <td>False</td>\n",
              "      <td>574b178ecd03c9af22cf67f4</td>\n",
              "    </tr>\n",
              "  </tbody>\n",
              "</table>\n",
              "</div>\n",
              "    <div class=\"colab-df-buttons\">\n",
              "\n",
              "  <div class=\"colab-df-container\">\n",
              "    <button class=\"colab-df-convert\" onclick=\"convertToInteractive('df-dcef8d66-69ed-4877-9bb8-437e202086ae')\"\n",
              "            title=\"Convert this dataframe to an interactive table.\"\n",
              "            style=\"display:none;\">\n",
              "\n",
              "  <svg xmlns=\"http://www.w3.org/2000/svg\" height=\"24px\" viewBox=\"0 -960 960 960\">\n",
              "    <path d=\"M120-120v-720h720v720H120Zm60-500h600v-160H180v160Zm220 220h160v-160H400v160Zm0 220h160v-160H400v160ZM180-400h160v-160H180v160Zm440 0h160v-160H620v160ZM180-180h160v-160H180v160Zm440 0h160v-160H620v160Z\"/>\n",
              "  </svg>\n",
              "    </button>\n",
              "\n",
              "  <style>\n",
              "    .colab-df-container {\n",
              "      display:flex;\n",
              "      gap: 12px;\n",
              "    }\n",
              "\n",
              "    .colab-df-convert {\n",
              "      background-color: #E8F0FE;\n",
              "      border: none;\n",
              "      border-radius: 50%;\n",
              "      cursor: pointer;\n",
              "      display: none;\n",
              "      fill: #1967D2;\n",
              "      height: 32px;\n",
              "      padding: 0 0 0 0;\n",
              "      width: 32px;\n",
              "    }\n",
              "\n",
              "    .colab-df-convert:hover {\n",
              "      background-color: #E2EBFA;\n",
              "      box-shadow: 0px 1px 2px rgba(60, 64, 67, 0.3), 0px 1px 3px 1px rgba(60, 64, 67, 0.15);\n",
              "      fill: #174EA6;\n",
              "    }\n",
              "\n",
              "    .colab-df-buttons div {\n",
              "      margin-bottom: 4px;\n",
              "    }\n",
              "\n",
              "    [theme=dark] .colab-df-convert {\n",
              "      background-color: #3B4455;\n",
              "      fill: #D2E3FC;\n",
              "    }\n",
              "\n",
              "    [theme=dark] .colab-df-convert:hover {\n",
              "      background-color: #434B5C;\n",
              "      box-shadow: 0px 1px 3px 1px rgba(0, 0, 0, 0.15);\n",
              "      filter: drop-shadow(0px 1px 2px rgba(0, 0, 0, 0.3));\n",
              "      fill: #FFFFFF;\n",
              "    }\n",
              "  </style>\n",
              "\n",
              "    <script>\n",
              "      const buttonEl =\n",
              "        document.querySelector('#df-dcef8d66-69ed-4877-9bb8-437e202086ae button.colab-df-convert');\n",
              "      buttonEl.style.display =\n",
              "        google.colab.kernel.accessAllowed ? 'block' : 'none';\n",
              "\n",
              "      async function convertToInteractive(key) {\n",
              "        const element = document.querySelector('#df-dcef8d66-69ed-4877-9bb8-437e202086ae');\n",
              "        const dataTable =\n",
              "          await google.colab.kernel.invokeFunction('convertToInteractive',\n",
              "                                                    [key], {});\n",
              "        if (!dataTable) return;\n",
              "\n",
              "        const docLinkHtml = 'Like what you see? Visit the ' +\n",
              "          '<a target=\"_blank\" href=https://colab.research.google.com/notebooks/data_table.ipynb>data table notebook</a>'\n",
              "          + ' to learn more about interactive tables.';\n",
              "        element.innerHTML = '';\n",
              "        dataTable['output_type'] = 'display_data';\n",
              "        await google.colab.output.renderOutput(dataTable, element);\n",
              "        const docLink = document.createElement('div');\n",
              "        docLink.innerHTML = docLinkHtml;\n",
              "        element.appendChild(docLink);\n",
              "      }\n",
              "    </script>\n",
              "  </div>\n",
              "\n",
              "\n",
              "    <div id=\"df-52873f14-df13-476d-a173-3d8e3b9d06ff\">\n",
              "      <button class=\"colab-df-quickchart\" onclick=\"quickchart('df-52873f14-df13-476d-a173-3d8e3b9d06ff')\"\n",
              "                title=\"Suggest charts\"\n",
              "                style=\"display:none;\">\n",
              "\n",
              "<svg xmlns=\"http://www.w3.org/2000/svg\" height=\"24px\"viewBox=\"0 0 24 24\"\n",
              "     width=\"24px\">\n",
              "    <g>\n",
              "        <path d=\"M19 3H5c-1.1 0-2 .9-2 2v14c0 1.1.9 2 2 2h14c1.1 0 2-.9 2-2V5c0-1.1-.9-2-2-2zM9 17H7v-7h2v7zm4 0h-2V7h2v10zm4 0h-2v-4h2v4z\"/>\n",
              "    </g>\n",
              "</svg>\n",
              "      </button>\n",
              "\n",
              "<style>\n",
              "  .colab-df-quickchart {\n",
              "      --bg-color: #E8F0FE;\n",
              "      --fill-color: #1967D2;\n",
              "      --hover-bg-color: #E2EBFA;\n",
              "      --hover-fill-color: #174EA6;\n",
              "      --disabled-fill-color: #AAA;\n",
              "      --disabled-bg-color: #DDD;\n",
              "  }\n",
              "\n",
              "  [theme=dark] .colab-df-quickchart {\n",
              "      --bg-color: #3B4455;\n",
              "      --fill-color: #D2E3FC;\n",
              "      --hover-bg-color: #434B5C;\n",
              "      --hover-fill-color: #FFFFFF;\n",
              "      --disabled-bg-color: #3B4455;\n",
              "      --disabled-fill-color: #666;\n",
              "  }\n",
              "\n",
              "  .colab-df-quickchart {\n",
              "    background-color: var(--bg-color);\n",
              "    border: none;\n",
              "    border-radius: 50%;\n",
              "    cursor: pointer;\n",
              "    display: none;\n",
              "    fill: var(--fill-color);\n",
              "    height: 32px;\n",
              "    padding: 0;\n",
              "    width: 32px;\n",
              "  }\n",
              "\n",
              "  .colab-df-quickchart:hover {\n",
              "    background-color: var(--hover-bg-color);\n",
              "    box-shadow: 0 1px 2px rgba(60, 64, 67, 0.3), 0 1px 3px 1px rgba(60, 64, 67, 0.15);\n",
              "    fill: var(--button-hover-fill-color);\n",
              "  }\n",
              "\n",
              "  .colab-df-quickchart-complete:disabled,\n",
              "  .colab-df-quickchart-complete:disabled:hover {\n",
              "    background-color: var(--disabled-bg-color);\n",
              "    fill: var(--disabled-fill-color);\n",
              "    box-shadow: none;\n",
              "  }\n",
              "\n",
              "  .colab-df-spinner {\n",
              "    border: 2px solid var(--fill-color);\n",
              "    border-color: transparent;\n",
              "    border-bottom-color: var(--fill-color);\n",
              "    animation:\n",
              "      spin 1s steps(1) infinite;\n",
              "  }\n",
              "\n",
              "  @keyframes spin {\n",
              "    0% {\n",
              "      border-color: transparent;\n",
              "      border-bottom-color: var(--fill-color);\n",
              "      border-left-color: var(--fill-color);\n",
              "    }\n",
              "    20% {\n",
              "      border-color: transparent;\n",
              "      border-left-color: var(--fill-color);\n",
              "      border-top-color: var(--fill-color);\n",
              "    }\n",
              "    30% {\n",
              "      border-color: transparent;\n",
              "      border-left-color: var(--fill-color);\n",
              "      border-top-color: var(--fill-color);\n",
              "      border-right-color: var(--fill-color);\n",
              "    }\n",
              "    40% {\n",
              "      border-color: transparent;\n",
              "      border-right-color: var(--fill-color);\n",
              "      border-top-color: var(--fill-color);\n",
              "    }\n",
              "    60% {\n",
              "      border-color: transparent;\n",
              "      border-right-color: var(--fill-color);\n",
              "    }\n",
              "    80% {\n",
              "      border-color: transparent;\n",
              "      border-right-color: var(--fill-color);\n",
              "      border-bottom-color: var(--fill-color);\n",
              "    }\n",
              "    90% {\n",
              "      border-color: transparent;\n",
              "      border-bottom-color: var(--fill-color);\n",
              "    }\n",
              "  }\n",
              "</style>\n",
              "\n",
              "      <script>\n",
              "        async function quickchart(key) {\n",
              "          const quickchartButtonEl =\n",
              "            document.querySelector('#' + key + ' button');\n",
              "          quickchartButtonEl.disabled = true;  // To prevent multiple clicks.\n",
              "          quickchartButtonEl.classList.add('colab-df-spinner');\n",
              "          try {\n",
              "            const charts = await google.colab.kernel.invokeFunction(\n",
              "                'suggestCharts', [key], {});\n",
              "          } catch (error) {\n",
              "            console.error('Error during call to suggestCharts:', error);\n",
              "          }\n",
              "          quickchartButtonEl.classList.remove('colab-df-spinner');\n",
              "          quickchartButtonEl.classList.add('colab-df-quickchart-complete');\n",
              "        }\n",
              "        (() => {\n",
              "          let quickchartButtonEl =\n",
              "            document.querySelector('#df-52873f14-df13-476d-a173-3d8e3b9d06ff button');\n",
              "          quickchartButtonEl.style.display =\n",
              "            google.colab.kernel.accessAllowed ? 'block' : 'none';\n",
              "        })();\n",
              "      </script>\n",
              "    </div>\n",
              "\n",
              "    </div>\n",
              "  </div>\n"
            ],
            "application/vnd.google.colaboratory.intrinsic+json": {
              "type": "dataframe",
              "summary": "{\n  \"name\": \"df\",\n  \"rows\": 5,\n  \"fields\": [\n    {\n      \"column\": \"user1\",\n      \"properties\": {\n        \"dtype\": \"int32\",\n        \"num_unique_values\": 5,\n        \"samples\": [\n          5109483,\n          2960727,\n          4322148\n        ],\n        \"semantic_type\": \"\",\n        \"description\": \"\"\n      }\n    },\n    {\n      \"column\": \"user2\",\n      \"properties\": {\n        \"dtype\": \"int32\",\n        \"num_unique_values\": 5,\n        \"samples\": [\n          4782303,\n          3442373,\n          3392963\n        ],\n        \"semantic_type\": \"\",\n        \"description\": \"\"\n      }\n    },\n    {\n      \"column\": \"transaction_type\",\n      \"properties\": {\n        \"dtype\": \"category\",\n        \"num_unique_values\": 2,\n        \"samples\": [\n          \"charge\",\n          \"payment\"\n        ],\n        \"semantic_type\": \"\",\n        \"description\": \"\"\n      }\n    },\n    {\n      \"column\": \"datetime\",\n      \"properties\": {\n        \"dtype\": \"date\",\n        \"min\": \"2015-06-17 11:37:04\",\n        \"max\": \"2016-06-03 23:34:13\",\n        \"num_unique_values\": 5,\n        \"samples\": [\n          \"2015-06-17 11:37:04\",\n          \"2016-05-29 23:23:42\"\n        ],\n        \"semantic_type\": \"\",\n        \"description\": \"\"\n      }\n    },\n    {\n      \"column\": \"description\",\n      \"properties\": {\n        \"dtype\": \"string\",\n        \"num_unique_values\": 5,\n        \"samples\": [\n          \"Costco\",\n          \"\\u26a1\"\n        ],\n        \"semantic_type\": \"\",\n        \"description\": \"\"\n      }\n    },\n    {\n      \"column\": \"is_business\",\n      \"properties\": {\n        \"dtype\": \"boolean\",\n        \"num_unique_values\": 1,\n        \"samples\": [\n          false\n        ],\n        \"semantic_type\": \"\",\n        \"description\": \"\"\n      }\n    },\n    {\n      \"column\": \"story_id\",\n      \"properties\": {\n        \"dtype\": \"string\",\n        \"num_unique_values\": 5,\n        \"samples\": [\n          \"5580f9702b64f70ab0114e94\"\n        ],\n        \"semantic_type\": \"\",\n        \"description\": \"\"\n      }\n    }\n  ]\n}"
            }
          },
          "metadata": {},
          "execution_count": 9
        }
      ]
    },
    {
      "cell_type": "code",
      "source": [
        "df.select('is_business').distinct().show()"
      ],
      "metadata": {
        "colab": {
          "base_uri": "https://localhost:8080/"
        },
        "id": "FjrtLQLnAKGd",
        "outputId": "a1d24f44-9e8d-4144-cf97-88b37d7931f3"
      },
      "execution_count": null,
      "outputs": [
        {
          "output_type": "stream",
          "name": "stdout",
          "text": [
            "+-----------+\n",
            "|is_business|\n",
            "+-----------+\n",
            "|      false|\n",
            "|       NULL|\n",
            "+-----------+\n",
            "\n"
          ]
        }
      ]
    },
    {
      "cell_type": "code",
      "source": [
        "df.select('transaction_type').distinct().show()"
      ],
      "metadata": {
        "colab": {
          "base_uri": "https://localhost:8080/"
        },
        "id": "dSWyXNBvAUy5",
        "outputId": "73c0e739-5055-439f-a9f0-9eb56b67435e"
      },
      "execution_count": null,
      "outputs": [
        {
          "output_type": "stream",
          "name": "stdout",
          "text": [
            "+----------------+\n",
            "|transaction_type|\n",
            "+----------------+\n",
            "|          charge|\n",
            "|         payment|\n",
            "+----------------+\n",
            "\n"
          ]
        }
      ]
    },
    {
      "cell_type": "code",
      "source": [
        "df.groupBy('is_business').count().show()"
      ],
      "metadata": {
        "colab": {
          "base_uri": "https://localhost:8080/"
        },
        "id": "vbpLNwfTCF-i",
        "outputId": "19a68e53-aaa1-407c-9469-cb4c9ca46fba"
      },
      "execution_count": null,
      "outputs": [
        {
          "output_type": "stream",
          "name": "stdout",
          "text": [
            "+-----------+-------+\n",
            "|is_business|  count|\n",
            "+-----------+-------+\n",
            "|       NULL|     34|\n",
            "|      false|7113103|\n",
            "+-----------+-------+\n",
            "\n"
          ]
        }
      ]
    },
    {
      "cell_type": "code",
      "source": [
        "#is_business columns: mostly false i.e., payments are not to merchants but some individuals. Dropping NULL values (as it can be either to a merchant or user/friend)\n",
        "df_clean = df.filter(F.col(\"is_business\").isNotNull()).select(\"user1\", \"user2\").dropna()"
      ],
      "metadata": {
        "id": "htK4gSWIAgnB"
      },
      "execution_count": null,
      "outputs": []
    },
    {
      "cell_type": "code",
      "source": [
        "#friends -> either pay or recieve money\n",
        "payments_connections = df_clean.select(\"user1\", \"user2\") \\\n",
        "    .union(df_clean.select(F.col(\"user2\").alias(\"user1\"), F.col(\"user1\").alias(\"user2\"))) \\\n",
        "    .dropDuplicates() \\\n",
        "    .withColumnRenamed(\"user1\", \"user\") \\\n",
        "    .withColumnRenamed(\"user2\", \"friend\")"
      ],
      "metadata": {
        "id": "RHi9oH3TC_Zm"
      },
      "execution_count": null,
      "outputs": []
    },
    {
      "cell_type": "code",
      "source": [
        "# Cache because used multiple times --> faster runtime --> can use cached value without recomputing again\n",
        "payments_connections.cache()"
      ],
      "metadata": {
        "colab": {
          "base_uri": "https://localhost:8080/"
        },
        "id": "moR_4B73DUf4",
        "outputId": "a642e32b-1b54-4155-d0d4-47caa2f0f9d6"
      },
      "execution_count": null,
      "outputs": [
        {
          "output_type": "execute_result",
          "data": {
            "text/plain": [
              "DataFrame[user: int, friend: int]"
            ]
          },
          "metadata": {},
          "execution_count": 18
        }
      ]
    },
    {
      "cell_type": "code",
      "source": [
        "direct_friends_df = payments_connections.groupBy(\"user\") \\\n",
        "    .agg(F.collect_set(F.col(\"friend\")).alias(\"direct_friends\"))"
      ],
      "metadata": {
        "id": "RpACgN2TDk8g"
      },
      "execution_count": null,
      "outputs": []
    },
    {
      "cell_type": "code",
      "source": [
        "user_friend_pairs = direct_friends_df \\\n",
        "    .select(\"user\", F.explode(\"direct_friends\").alias(\"friend\")) \\\n",
        "    .dropDuplicates()\n",
        "\n",
        "user_friend_pairs.cache()"
      ],
      "metadata": {
        "id": "4jawchQlD2zg",
        "colab": {
          "base_uri": "https://localhost:8080/"
        },
        "outputId": "028f8d7c-acc2-4fdb-a7f5-d172d70924f5"
      },
      "execution_count": null,
      "outputs": [
        {
          "output_type": "execute_result",
          "data": {
            "text/plain": [
              "DataFrame[user: int, friend: int]"
            ]
          },
          "metadata": {},
          "execution_count": 26
        }
      ]
    },
    {
      "cell_type": "code",
      "source": [
        "spark.conf.set(\"spark.sql.autoBroadcastJoinThreshold\", -1)"
      ],
      "metadata": {
        "id": "SYXKHiExMMi7"
      },
      "execution_count": null,
      "outputs": []
    },
    {
      "cell_type": "code",
      "source": [
        "friend_of_friend = user_friend_pairs \\\n",
        "    .join(\n",
        "        user_friend_pairs.select(F.col(\"user\").alias(\"friend\"), F.col(\"friend\").alias(\"fof\")),\n",
        "        on=\"friend\", how=\"inner\"\n",
        "    ) \\\n",
        "    .select(\"user\", \"fof\") \\\n",
        "    .filter(F.col(\"user\") != F.col(\"fof\"))  # Remove self"
      ],
      "metadata": {
        "id": "fjh0bYtNJuue"
      },
      "execution_count": null,
      "outputs": []
    },
    {
      "cell_type": "code",
      "source": [
        "direct_edges = payments_connections.select(\"user\", F.col(\"friend\").alias(\"fof\"))\n",
        "friend_of_friend_final = friend_of_friend.join(direct_edges, [\"user\", \"fof\"], \"left_anti\")"
      ],
      "metadata": {
        "id": "-82E414RKAbk"
      },
      "execution_count": null,
      "outputs": []
    },
    {
      "cell_type": "code",
      "source": [
        "friend_of_friend_agg = friend_of_friend_final.groupBy(\"user\") \\\n",
        "    .agg(F.collect_set(\"fof\").alias(\"friends_of_friends\"))"
      ],
      "metadata": {
        "id": "ilY2xhWvKP65"
      },
      "execution_count": null,
      "outputs": []
    },
    {
      "cell_type": "code",
      "source": [
        "result = direct_friends_df \\\n",
        "    .join(friend_of_friend_agg, on=\"user\", how=\"left\") \\\n",
        "    .select(\"user\", \"direct_friends\", \"friends_of_friends\")\n",
        "\n",
        "result.show(truncate=False)"
      ],
      "metadata": {
        "id": "9ALLCToVKcaY"
      },
      "execution_count": null,
      "outputs": []
    },
    {
      "cell_type": "code",
      "source": [
        "result.show(truncate=False)"
      ],
      "metadata": {
        "colab": {
          "base_uri": "https://localhost:8080/"
        },
        "id": "0DY-n-hOKjA8",
        "outputId": "04e828fe-2feb-44e1-95fa-3448c96cb095"
      },
      "execution_count": null,
      "outputs": [
        {
          "output_type": "stream",
          "name": "stdout",
          "text": [
            "+----+-----------------------------------------------------------------------------------------------------------------------------------------------------------------------------------------+-----------------------------------------------------------------------------------------------------------------------------------------------------------------------------------------------------------------------------------------------------------------------------------------------------------------------------------------------------------------------------------------------------------------------------------------------------------------------------------------------------------------------------------------------------------------------------------------------------------------------------------------------------------------------------------------------------------------------------------------------------------------------------------------------------------------------------------------------------------------------------------------------------------------------------------------------------------------------------------------------------------------------------------------------------------------------------------------------------------------------------------------------------------------------------------------------------------------------------------------------------------------------------------------------------------------------------------------------------------------------------------------------------------------------------------------------------------------------------------------------------------------------------------------------------------------------------------------------------------------------------------------------------------------------------------------------+\n",
            "|user|direct_friends                                                                                                                                                                           |friends_of_friends                                                                                                                                                                                                                                                                                                                                                                                                                                                                                                                                                                                                                                                                                                                                                                                                                                                                                                                                                                                                                                                                                                                                                                                                                                                                                                                                                                                                                                                                                                                                                                                                                                                                             |\n",
            "+----+-----------------------------------------------------------------------------------------------------------------------------------------------------------------------------------------+-----------------------------------------------------------------------------------------------------------------------------------------------------------------------------------------------------------------------------------------------------------------------------------------------------------------------------------------------------------------------------------------------------------------------------------------------------------------------------------------------------------------------------------------------------------------------------------------------------------------------------------------------------------------------------------------------------------------------------------------------------------------------------------------------------------------------------------------------------------------------------------------------------------------------------------------------------------------------------------------------------------------------------------------------------------------------------------------------------------------------------------------------------------------------------------------------------------------------------------------------------------------------------------------------------------------------------------------------------------------------------------------------------------------------------------------------------------------------------------------------------------------------------------------------------------------------------------------------------------------------------------------------------------------------------------------------+\n",
            "|31  |[192]                                                                                                                                                                                    |[4100542, 1397541, 4680655, 2440783, 648168]                                                                                                                                                                                                                                                                                                                                                                                                                                                                                                                                                                                                                                                                                                                                                                                                                                                                                                                                                                                                                                                                                                                                                                                                                                                                                                                                                                                                                                                                                                                                                                                                                                                   |\n",
            "|34  |[2048982, 934623, 5114, 907, 35940]                                                                                                                                                      |[178013, 7428923, 7402798, 267449, 59748, 178484]                                                                                                                                                                                                                                                                                                                                                                                                                                                                                                                                                                                                                                                                                                                                                                                                                                                                                                                                                                                                                                                                                                                                                                                                                                                                                                                                                                                                                                                                                                                                                                                                                                              |\n",
            "|108 |[717814]                                                                                                                                                                                 |[2582444, 7816576, 3393746, 169253]                                                                                                                                                                                                                                                                                                                                                                                                                                                                                                                                                                                                                                                                                                                                                                                                                                                                                                                                                                                                                                                                                                                                                                                                                                                                                                                                                                                                                                                                                                                                                                                                                                                            |\n",
            "|126 |[1009401, 1405397, 180436, 725, 66274]                                                                                                                                                   |[631426, 79940, 928613, 600415, 721021, 242476, 8800401, 1289355, 1861827, 67696, 73047, 386958, 6902849, 51792, 1341652, 120139, 975831, 66945, 281253, 62134, 915284, 729499, 1060028, 1077769, 499185, 1208546, 330591, 2010933, 86615, 842166, 154134, 169088, 270703, 144146, 1341161, 1009036, 1502171, 224071]                                                                                                                                                                                                                                                                                                                                                                                                                                                                                                                                                                                                                                                                                                                                                                                                                                                                                                                                                                                                                                                                                                                                                                                                                                                                                                                                                                          |\n",
            "|133 |[3228, 318572, 71454]                                                                                                                                                                    |[317884, 80020, 306901, 7647646, 4202187, 30775, 79755, 29486, 1164513, 36122, 119683, 305956, 159617, 48522, 2494171, 1174977, 30746, 295556, 196925, 238863, 29673, 655109, 269514, 86262, 106769, 364102, 115284, 3871744]                                                                                                                                                                                                                                                                                                                                                                                                                                                                                                                                                                                                                                                                                                                                                                                                                                                                                                                                                                                                                                                                                                                                                                                                                                                                                                                                                                                                                                                                  |\n",
            "|211 |[2450651]                                                                                                                                                                                |[2801216, 2918794, 424244, 667912, 705537, 2739808, 6613886]                                                                                                                                                                                                                                                                                                                                                                                                                                                                                                                                                                                                                                                                                                                                                                                                                                                                                                                                                                                                                                                                                                                                                                                                                                                                                                                                                                                                                                                                                                                                                                                                                                   |\n",
            "|243 |[2171178, 9, 2822812, 2338707, 2667704, 2308096, 2240105, 143953, 2198859, 2261623, 213, 64051, 441736, 63980, 134104, 3017566, 737443, 4095326, 367955, 287908, 2400322, 378439, 251599]|[429051, 157294, 261146, 2578510, 2695282, 147554, 1036792, 13422991, 164665, 794689, 401340, 2702428, 540674, 272213, 152930, 162360, 2413017, 359042, 2496079, 2364541, 2280167, 45959, 1404173, 2412228, 2180579, 258540, 377142, 2279001, 135809, 342712, 2218532, 4220002, 393033, 1268325, 297451, 317204, 2719102, 2466865, 2062023, 492371, 2400262, 1923801, 3030328, 152783, 2445619, 2539873, 2208917, 2271789, 2248567, 212442, 287480, 494595, 304570, 1166701, 2789, 2211374, 367821, 13637428, 160635, 6046066, 2089703, 330503, 810862, 982508, 5082721, 1274620, 504908, 116871, 761022, 128102, 1010850, 1639675, 1182, 78914, 5986080, 117810, 248557, 1844, 6380439, 2779626, 757722, 2215314, 2280016, 157158, 128760, 63927, 2062894, 67398, 308791, 1817445, 2455373, 1035805, 140393, 1696609, 86791, 3565331, 1580687, 531327, 4933729, 2544638, 6097127, 503062, 344883, 3423372, 394086, 1019217, 172142, 907788, 2276223, 1566333, 592446, 944142, 252489, 1625207, 315565, 2401, 753661, 2252008, 488394, 6098264, 2879723, 2081328, 632142, 2124703, 6402167, 2847290, 118240, 217801, 882907, 451476, 936757, 1310892, 2351282, 622658, 6613182, 1110879, 132913, 1629380, 516203, 712835, 84481, 2294459, 2255767, 618473, 237036, 416201, 1482557, 489519, 755956, 611011, 1144545, 378294, 268237, 111003, 402911, 47086, 1373787, 1876004, 151794, 90642, 2547956, 107549, 1676897, 21091, 239479, 1155010, 131223, 3161475, 2887, 2750826, 196304, 169990, 5409877, 1234, 1464287, 249038, 2248657, 7819429, 2175535, 236277, 812278, 930168, 2124475, 2536359, 2276891, 2146581, 2318494, 185494, 403707, 109207, 211271, 937314, 1858840, 542912, 214896]|\n",
            "|255 |[10, 66916]                                                                                                                                                                              |[13, 36523, 71056, 133032, 3844713, 43]                                                                                                                                                                                                                                                                                                                                                                                                                                                                                                                                                                                                                                                                                                                                                                                                                                                                                                                                                                                                                                                                                                                                                                                                                                                                                                                                                                                                                                                                                                                                                                                                                                                        |\n",
            "|322 |[2071363, 411317, 834567, 2222652]                                                                                                                                                       |[441908, 1203904, 866633, 893580, 2138630, 1250446, 4056627, 3965052, 6988857, 5570058, 907913, 266218, 1290506, 2221215, 1543956, 653014, 633668, 518885]                                                                                                                                                                                                                                                                                                                                                                                                                                                                                                                                                                                                                                                                                                                                                                                                                                                                                                                                                                                                                                                                                                                                                                                                                                                                                                                                                                                                                                                                                                                                     |\n",
            "|375 |[1764984, 686325]                                                                                                                                                                        |[1535859, 1577291, 303333, 1782140, 1108152, 2411599, 3026087, 3214586, 1223108, 4116014]                                                                                                                                                                                                                                                                                                                                                                                                                                                                                                                                                                                                                                                                                                                                                                                                                                                                                                                                                                                                                                                                                                                                                                                                                                                                                                                                                                                                                                                                                                                                                                                                      |\n",
            "|588 |[210214, 3664, 2840, 195748, 78131]                                                                                                                                                      |[51623, 1633232, 120767, 5042366, 1900011, 1136055, 33970, 42703, 160826, 5063782, 193341, 1475034, 42624, 378533, 1499651, 1743620, 36957, 4240, 100433]                                                                                                                                                                                                                                                                                                                                                                                                                                                                                                                                                                                                                                                                                                                                                                                                                                                                                                                                                                                                                                                                                                                                                                                                                                                                                                                                                                                                                                                                                                                                      |\n",
            "|642 |[311153]                                                                                                                                                                                 |[1918249]                                                                                                                                                                                                                                                                                                                                                                                                                                                                                                                                                                                                                                                                                                                                                                                                                                                                                                                                                                                                                                                                                                                                                                                                                                                                                                                                                                                                                                                                                                                                                                                                                                                                                      |\n",
            "|799 |[487381, 733467]                                                                                                                                                                         |[797614, 948891, 404280, 808876, 4087361, 252494, 2077724, 253365, 303291, 495785, 289753, 158244]                                                                                                                                                                                                                                                                                                                                                                                                                                                                                                                                                                                                                                                                                                                                                                                                                                                                                                                                                                                                                                                                                                                                                                                                                                                                                                                                                                                                                                                                                                                                                                                             |\n",
            "|830 |[828, 1291070, 946958, 236126, 3277073]                                                                                                                                                  |[333803, 452427, 236044, 1600392, 1130391, 154298, 2441298, 3284540, 168652, 1844407, 255626, 232100, 1784593, 3541099, 1442602, 55156, 200814, 1135300, 3016971, 1124216, 233209, 3342324, 751578, 4080503, 2794723, 987024, 541729, 1394981, 155552]                                                                                                                                                                                                                                                                                                                                                                                                                                                                                                                                                                                                                                                                                                                                                                                                                                                                                                                                                                                                                                                                                                                                                                                                                                                                                                                                                                                                                                         |\n",
            "|858 |[47]                                                                                                                                                                                     |[351854, 6918132]                                                                                                                                                                                                                                                                                                                                                                                                                                                                                                                                                                                                                                                                                                                                                                                                                                                                                                                                                                                                                                                                                                                                                                                                                                                                                                                                                                                                                                                                                                                                                                                                                                                                              |\n",
            "|879 |[130074, 649481, 73038, 723, 7123014, 97590, 119195, 551709, 193602, 486906, 229173, 1160, 171419, 44731, 403644]                                                                        |[1566141, 568728, 2622849, 521747, 102626, 106430, 789752, 622622, 4440132, 7087879, 228280, 77120, 1205434, 5210327, 245239, 707442, 224470, 219527, 123916, 153374, 3926820, 246047, 120295, 65989, 646236, 442956, 1958637, 312638, 4145618, 200811, 71713, 2685072, 2459253, 377082, 1243365, 36363, 6010497, 3097, 1454707, 57751, 1528360, 49991, 287347, 154097, 136755, 160029, 33769, 685672, 377197, 1317335, 119786, 125310, 1766722, 503757, 3682475, 2172441, 65807, 6831546, 1577909, 707687, 2129433, 9264312, 432055, 36266, 727361, 776195, 205770, 2451675, 537621, 557772, 68260]                                                                                                                                                                                                                                                                                                                                                                                                                                                                                                                                                                                                                                                                                                                                                                                                                                                                                                                                                                                                                                                                                           |\n",
            "|918 |[248403]                                                                                                                                                                                 |[92425, 205100, 2742779, 997475, 428419]                                                                                                                                                                                                                                                                                                                                                                                                                                                                                                                                                                                                                                                                                                                                                                                                                                                                                                                                                                                                                                                                                                                                                                                                                                                                                                                                                                                                                                                                                                                                                                                                                                                       |\n",
            "|1068|[1132629, 1710640]                                                                                                                                                                       |[4287060, 201257, 2016763, 2334501, 67696, 2206743, 2047667, 3463312, 2197808, 2140765, 1902719]                                                                                                                                                                                                                                                                                                                                                                                                                                                                                                                                                                                                                                                                                                                                                                                                                                                                                                                                                                                                                                                                                                                                                                                                                                                                                                                                                                                                                                                                                                                                                                                               |\n",
            "|1084|[282207]                                                                                                                                                                                 |NULL                                                                                                                                                                                                                                                                                                                                                                                                                                                                                                                                                                                                                                                                                                                                                                                                                                                                                                                                                                                                                                                                                                                                                                                                                                                                                                                                                                                                                                                                                                                                                                                                                                                                                           |\n",
            "|1133|[3294783]                                                                                                                                                                                |[1923938, 1172246, 2797062]                                                                                                                                                                                                                                                                                                                                                                                                                                                                                                                                                                                                                                                                                                                                                                                                                                                                                                                                                                                                                                                                                                                                                                                                                                                                                                                                                                                                                                                                                                                                                                                                                                                                    |\n",
            "+----+-----------------------------------------------------------------------------------------------------------------------------------------------------------------------------------------+-----------------------------------------------------------------------------------------------------------------------------------------------------------------------------------------------------------------------------------------------------------------------------------------------------------------------------------------------------------------------------------------------------------------------------------------------------------------------------------------------------------------------------------------------------------------------------------------------------------------------------------------------------------------------------------------------------------------------------------------------------------------------------------------------------------------------------------------------------------------------------------------------------------------------------------------------------------------------------------------------------------------------------------------------------------------------------------------------------------------------------------------------------------------------------------------------------------------------------------------------------------------------------------------------------------------------------------------------------------------------------------------------------------------------------------------------------------------------------------------------------------------------------------------------------------------------------------------------------------------------------------------------------------------------------------------------+\n",
            "only showing top 20 rows\n",
            "\n"
          ]
        }
      ]
    },
    {
      "cell_type": "code",
      "source": [
        "result.write.parquet(\"result_new.parquet\")"
      ],
      "metadata": {
        "id": "pPZoyLe6KuRS"
      },
      "execution_count": null,
      "outputs": []
    },
    {
      "cell_type": "code",
      "source": [
        "result = spark.read.parquet(\"result_new.parquet\")"
      ],
      "metadata": {
        "id": "A_uRCDAZsNKu"
      },
      "execution_count": null,
      "outputs": []
    },
    {
      "cell_type": "code",
      "source": [
        "friends_count = result.withColumn(\"num_friends\", F.size(\"direct_friends\")) \\\n",
        "                           .withColumn(\"num_fofs\", F.size(\"friends_of_friends\"))"
      ],
      "metadata": {
        "id": "ATbY7HivL2AC"
      },
      "execution_count": null,
      "outputs": []
    },
    {
      "cell_type": "code",
      "source": [
        "friends_count.show()"
      ],
      "metadata": {
        "colab": {
          "base_uri": "https://localhost:8080/"
        },
        "id": "K5Pc6O_sWa2f",
        "outputId": "a3948e49-68a4-410e-8209-b4f6c473fc77"
      },
      "execution_count": null,
      "outputs": [
        {
          "output_type": "stream",
          "name": "stdout",
          "text": [
            "+----+--------------------+--------------------+-----------+--------+\n",
            "|user|      direct_friends|  friends_of_friends|num_friends|num_fofs|\n",
            "+----+--------------------+--------------------+-----------+--------+\n",
            "|  10|[255, 13, 36523, ...|[189467, 126820, ...|          7|      45|\n",
            "| 129|[2176924, 243198,...|[3367901, 235107,...|          3|      29|\n",
            "| 239|            [693143]|[21837, 180400, 1...|          1|       5|\n",
            "| 267|[152025, 1882292,...|[170964, 2914671,...|          4|      24|\n",
            "| 293|           [7210780]|                NULL|          1|      -1|\n",
            "| 312|  [4040424, 1991151]|           [6582876]|          2|       1|\n",
            "| 361|[1672387, 2892309...|[2606588, 4627919...|          3|      15|\n",
            "| 771|           [1647493]|[150025, 3558782,...|          1|       6|\n",
            "| 794|[961485, 600806, ...|[1351855, 6346, 1...|          4|       9|\n",
            "| 907|                [34]|[2048982, 934623,...|          1|       4|\n",
            "|1006|           [1012983]|[904681, 509692, ...|          1|       4|\n",
            "|1020|    [313880, 395979]|[1071467, 5475131...|          2|      20|\n",
            "|1229|[234416, 2190492,...|[2602173, 419150,...|          3|      16|\n",
            "|1230|[129235, 379236, ...|[835439, 6917174,...|          3|      34|\n",
            "|1234|[1766791, 2183211...|[677188, 1486225,...|          9|      68|\n",
            "|1581|   [1423272, 146298]|[534014, 1476930,...|          2|       5|\n",
            "|1625|           [4328965]|           [1557716]|          1|       1|\n",
            "|1660| [1642, 1636, 44415]|[1143718, 125086,...|          3|      23|\n",
            "|1690|      [39710, 37969]|      [38697, 30876]|          2|       2|\n",
            "|1738|[46711, 33816, 32...|[186273, 1713866,...|          7|      30|\n",
            "+----+--------------------+--------------------+-----------+--------+\n",
            "only showing top 20 rows\n",
            "\n"
          ]
        }
      ]
    },
    {
      "cell_type": "code",
      "source": [
        "edges = result.select(\n",
        "    F.col(\"user\").alias(\"u\"),\n",
        "    F.explode(\"direct_friends\").alias(\"v\")\n",
        ").distinct()"
      ],
      "metadata": {
        "id": "gEbtawBgWdfL"
      },
      "execution_count": null,
      "outputs": []
    },
    {
      "cell_type": "code",
      "source": [
        "#friend relationships is symmetric\n",
        "edges_symmetric = edges.union(edges.select(F.col(\"v\").alias(\"u\"), F.col(\"u\").alias(\"v\"))).distinct()"
      ],
      "metadata": {
        "id": "IDmS3B3fhSMF"
      },
      "execution_count": null,
      "outputs": []
    },
    {
      "cell_type": "code",
      "source": [
        "# Step 2: For each user, get friend pairs among their friends\n",
        "friend_pairs = result.select(F.col(\"user\"), F.explode(\"direct_friends\").alias(\"f1\")) \\\n",
        "    .join(result.select(F.col(\"user\").alias(\"user_\"), F.explode(\"direct_friends\").alias(\"f2\")),\n",
        "          F.col(\"user\") == F.col(\"user_\")) \\\n",
        "    .filter(F.col(\"f1\") < F.col(\"f2\")) \\\n",
        "    .select(F.col(\"user\"), F.col(\"f1\"), F.col(\"f2\"))"
      ],
      "metadata": {
        "id": "ujGdz7f_YwBT"
      },
      "execution_count": null,
      "outputs": []
    },
    {
      "cell_type": "code",
      "source": [
        "# Step 3: Check which friend pairs are actually connected\n",
        "triangles = friend_pairs.join(\n",
        "    edges_symmetric,\n",
        "    (friend_pairs[\"f1\"] == edges_symmetric[\"u\"]) & (friend_pairs[\"f2\"] == edges_symmetric[\"v\"]),\n",
        "    how=\"inner\"\n",
        ").groupBy(\"user\").agg(F.count(\"*\").alias(\"triangles\"))"
      ],
      "metadata": {
        "id": "itsEv3uVY0uk"
      },
      "execution_count": null,
      "outputs": []
    },
    {
      "cell_type": "code",
      "source": [
        "triangles.show(5)"
      ],
      "metadata": {
        "colab": {
          "base_uri": "https://localhost:8080/"
        },
        "id": "Ga36K-lBf90j",
        "outputId": "055f88d2-1f8e-4419-b2d7-0b2166067f2f"
      },
      "execution_count": null,
      "outputs": [
        {
          "output_type": "stream",
          "name": "stdout",
          "text": [
            "+-------+---------+\n",
            "|   user|triangles|\n",
            "+-------+---------+\n",
            "|1028166|        2|\n",
            "| 804638|        3|\n",
            "|1677468|        8|\n",
            "|2664828|        7|\n",
            "| 199855|       12|\n",
            "+-------+---------+\n",
            "only showing top 5 rows\n",
            "\n"
          ]
        }
      ]
    },
    {
      "cell_type": "code",
      "source": [
        "# Step 4: Compute degree for each user\n",
        "result_with_degree = result.withColumn(\"degree\", F.size(\"direct_friends\"))"
      ],
      "metadata": {
        "id": "qCzI3_U9ZICZ"
      },
      "execution_count": null,
      "outputs": []
    },
    {
      "cell_type": "code",
      "source": [
        "# Step 5: Join triangles and compute clustering coefficient\n",
        "result_joined = result_with_degree.join(triangles, on=\"user\", how=\"left\").fillna({\"triangles\": 0})"
      ],
      "metadata": {
        "id": "9CfwqgBLZNgP"
      },
      "execution_count": null,
      "outputs": []
    },
    {
      "cell_type": "code",
      "source": [
        "coeff_result = result_joined.withColumn(\"possible\", (F.col(\"degree\") * (F.col(\"degree\") - 1)) / 2) \\\n",
        "    .withColumn(\"clustering_coefficient\",\n",
        "                F.when(F.col(\"possible\") == 0, 0.0).otherwise((2 * F.col(\"triangles\")) / F.col(\"possible\")))"
      ],
      "metadata": {
        "id": "BxRUgEBiZQyT"
      },
      "execution_count": null,
      "outputs": []
    },
    {
      "cell_type": "code",
      "source": [
        "coeff_result.show()"
      ],
      "metadata": {
        "colab": {
          "base_uri": "https://localhost:8080/"
        },
        "id": "ULL681QYZf0e",
        "outputId": "99674f5b-1b8f-4d79-8f4c-14654d3f9027"
      },
      "execution_count": null,
      "outputs": [
        {
          "output_type": "stream",
          "name": "stdout",
          "text": [
            "+----+--------------------+--------------------+------+---------+--------+----------------------+\n",
            "|user|      direct_friends|  friends_of_friends|degree|triangles|possible|clustering_coefficient|\n",
            "+----+--------------------+--------------------+------+---------+--------+----------------------+\n",
            "|  12|[135778, 221813, ...|[459250, 292151, ...|     9|        4|    36.0|    0.2222222222222222|\n",
            "|  28|    [582796, 769787]|[4287347, 386429,...|     2|        0|     1.0|                   0.0|\n",
            "|  31|               [192]|[4100542, 1397541...|     1|        0|     0.0|                   0.0|\n",
            "|  34|[2048982, 934623,...|[178013, 7428923,...|     5|        0|    10.0|                   0.0|\n",
            "| 108|            [717814]|[2582444, 7816576...|     1|        0|     0.0|                   0.0|\n",
            "| 126|[1009401, 1405397...|[631426, 79940, 9...|     5|        0|    10.0|                   0.0|\n",
            "| 133|[3228, 318572, 71...|[317884, 80020, 3...|     3|        2|     3.0|    1.3333333333333333|\n",
            "| 159|    [1051823, 85310]|[1396115, 1936869...|     2|        0|     1.0|                   0.0|\n",
            "| 192|[4100542, 1397541...|[190517, 1310633,...|     6|        0|    15.0|                   0.0|\n",
            "| 211|           [2450651]|[2801216, 2918794...|     1|        0|     0.0|                   0.0|\n",
            "| 224|[1257884, 331328,...|[1840530, 2806773...|     5|        2|    10.0|                   0.4|\n",
            "| 225|[33821, 59208, 52...|[1950330, 6149, 1...|     4|        1|     6.0|    0.3333333333333333|\n",
            "| 232|            [265752]|[2386218, 431955,...|     1|        0|     0.0|                   0.0|\n",
            "| 243|[2171178, 9, 2822...|[429051, 157294, ...|    23|        6|   253.0|   0.04743083003952569|\n",
            "| 246|   [2130015, 706652]|[741522, 288890, ...|     2|        0|     1.0|                   0.0|\n",
            "| 253|[200695, 764611, ...|[179610, 332177, ...|     8|        1|    28.0|   0.07142857142857142|\n",
            "| 255|         [10, 66916]|[13, 36523, 71056...|     2|        0|     1.0|                   0.0|\n",
            "| 285|[401467, 329565, ...|[1672547, 621081,...|     3|        0|     3.0|                   0.0|\n",
            "| 322|[2071363, 411317,...|[441908, 1203904,...|     4|        1|     6.0|    0.3333333333333333|\n",
            "| 332|                [29]|    [298724, 231463]|     1|        0|     0.0|                   0.0|\n",
            "+----+--------------------+--------------------+------+---------+--------+----------------------+\n",
            "only showing top 20 rows\n",
            "\n"
          ]
        }
      ]
    },
    {
      "cell_type": "code",
      "source": [
        "coeff_result.write.parquet(\"coeff_result.parquet\")"
      ],
      "metadata": {
        "id": "4L8jlECvsdu5"
      },
      "execution_count": null,
      "outputs": []
    },
    {
      "cell_type": "code",
      "source": [
        "!unzip \"/content/coeff_result.parquet-20250531T053302Z-1-001.zip\" -d \"/content/coeff_result/\"\n"
      ],
      "metadata": {
        "colab": {
          "base_uri": "https://localhost:8080/"
        },
        "id": "TfiIhuT70YK_",
        "outputId": "050bd4a3-4f3f-4476-9606-0e1feac1d0db"
      },
      "execution_count": null,
      "outputs": [
        {
          "output_type": "stream",
          "name": "stdout",
          "text": [
            "Archive:  /content/coeff_result.parquet-20250531T053302Z-1-001.zip\n",
            "  inflating: /content/coeff_result/coeff_result.parquet/_SUCCESS  \n",
            "  inflating: /content/coeff_result/coeff_result.parquet/.part-00005-5157d41a-4566-41a8-8100-9006ca92e029-c000.snappy.parquet.crc  \n",
            "  inflating: /content/coeff_result/coeff_result.parquet/._SUCCESS.crc  \n",
            "  inflating: /content/coeff_result/coeff_result.parquet/.part-00001-5157d41a-4566-41a8-8100-9006ca92e029-c000.snappy.parquet.crc  \n",
            "  inflating: /content/coeff_result/coeff_result.parquet/.part-00003-5157d41a-4566-41a8-8100-9006ca92e029-c000.snappy.parquet.crc  \n",
            "  inflating: /content/coeff_result/coeff_result.parquet/.part-00000-5157d41a-4566-41a8-8100-9006ca92e029-c000.snappy.parquet.crc  \n",
            "  inflating: /content/coeff_result/coeff_result.parquet/.part-00002-5157d41a-4566-41a8-8100-9006ca92e029-c000.snappy.parquet.crc  \n",
            "  inflating: /content/coeff_result/coeff_result.parquet/.part-00004-5157d41a-4566-41a8-8100-9006ca92e029-c000.snappy.parquet.crc  \n",
            "  inflating: /content/coeff_result/coeff_result.parquet/part-00003-5157d41a-4566-41a8-8100-9006ca92e029-c000.snappy.parquet  \n",
            "  inflating: /content/coeff_result/coeff_result.parquet/part-00004-5157d41a-4566-41a8-8100-9006ca92e029-c000.snappy.parquet  \n",
            "  inflating: /content/coeff_result/coeff_result.parquet/part-00001-5157d41a-4566-41a8-8100-9006ca92e029-c000.snappy.parquet  \n",
            "  inflating: /content/coeff_result/coeff_result.parquet/part-00002-5157d41a-4566-41a8-8100-9006ca92e029-c000.snappy.parquet  \n",
            "  inflating: /content/coeff_result/coeff_result.parquet/part-00000-5157d41a-4566-41a8-8100-9006ca92e029-c000.snappy.parquet  \n",
            "  inflating: /content/coeff_result/coeff_result.parquet/part-00005-5157d41a-4566-41a8-8100-9006ca92e029-c000.snappy.parquet  \n"
          ]
        }
      ]
    },
    {
      "cell_type": "code",
      "source": [
        "# Step 1: Read coefficient result (already done)\n",
        "coeff_result = spark.read.parquet(\"/content/coeff_result/coeff_result.parquet\")\n",
        "\n",
        "# Step 2: Select top 500 users by degree and clustering coefficient\n",
        "top_by_degree = coeff_result.orderBy(F.col(\"degree\").desc()).limit(500).select(F.col(\"user\").alias(\"id\"))\n",
        "top_by_cluster = coeff_result.orderBy(F.col(\"clustering_coefficient\").desc()).limit(500).select(F.col(\"user\").alias(\"id\"))\n",
        "\n",
        "# Step 3: Union and deduplicate\n",
        "sampled_users = top_by_degree.union(top_by_cluster).distinct()\n",
        "\n",
        "# Step 4: Read full edge list\n",
        "df = spark.read.parquet(\"./VenmoSample.snappy.parquet\")\n",
        "\n",
        "# Optional: Filter for individual transactions\n",
        "df_clean = df.filter(F.col(\"is_business\") == False).select(\"user1\", \"user2\").dropna()\n",
        "\n",
        "# Step 5: Filter edges where both src and dst are in sampled users\n",
        "edges = df_clean.join(sampled_users.withColumnRenamed(\"id\", \"user1\"), on=\"user1\") \\\n",
        "                .join(sampled_users.withColumnRenamed(\"id\", \"user2\"), on=\"user2\") \\\n",
        "                .select(F.col(\"user1\").alias(\"src\"), F.col(\"user2\").alias(\"dst\"))\n",
        "\n",
        "# Step 6: Create vertices from edge list\n",
        "vertices = edges.select(\"src\").union(edges.select(\"dst\")).distinct().withColumnRenamed(\"src\", \"id\")\n",
        "\n",
        "# Step 7: Build GraphFrame\n",
        "from graphframes import GraphFrame\n",
        "g = GraphFrame(vertices, edges)\n",
        "\n",
        "# Step 8: Compute PageRank\n",
        "pagerank_result = g.pageRank(resetProbability=0.15, maxIter=5)\n",
        "\n",
        "# Step 9: View results\n",
        "pagerank = pagerank_result.vertices.select(\"id\", \"pagerank\")\n",
        "pagerank.orderBy(\"pagerank\", ascending=False).show(20)"
      ],
      "metadata": {
        "colab": {
          "base_uri": "https://localhost:8080/"
        },
        "id": "LCmQYtdsm0Ux",
        "outputId": "6059540c-e1a1-42f4-d4eb-9da791b7498d"
      },
      "execution_count": null,
      "outputs": [
        {
          "output_type": "stream",
          "name": "stderr",
          "text": [
            "/usr/local/lib/python3.11/dist-packages/pyspark/sql/dataframe.py:168: UserWarning: DataFrame.sql_ctx is an internal property, and will be removed in future releases. Use DataFrame.sparkSession instead.\n",
            "  warnings.warn(\n",
            "/usr/local/lib/python3.11/dist-packages/pyspark/sql/dataframe.py:147: UserWarning: DataFrame constructor is internal. Do not directly use it.\n",
            "  warnings.warn(\"DataFrame constructor is internal. Do not directly use it.\")\n"
          ]
        },
        {
          "output_type": "stream",
          "name": "stdout",
          "text": [
            "+-------+------------------+\n",
            "|     id|          pagerank|\n",
            "+-------+------------------+\n",
            "| 277650| 4.501162579016981|\n",
            "| 986090| 4.483048029976847|\n",
            "| 871852|  4.19654205898615|\n",
            "| 696697|3.8393950975604847|\n",
            "| 206476| 3.825739419561554|\n",
            "| 294580|3.6672665956659447|\n",
            "| 267842| 3.319669082681493|\n",
            "| 256162| 3.134575158813574|\n",
            "|1622649|3.1345751588135737|\n",
            "| 989733| 3.101263554534139|\n",
            "|4249204|2.9635776622329435|\n",
            "|2820628|2.9305638235176703|\n",
            "| 440727|2.7293011271132834|\n",
            "| 367855|    2.672819728976|\n",
            "| 872748|2.6168655613021796|\n",
            "|2110559|2.6042975851786747|\n",
            "| 126153| 2.580928629829397|\n",
            "|9318612| 2.501457226574429|\n",
            "|5579336| 2.380934460203776|\n",
            "|2069464| 2.365534349234172|\n",
            "+-------+------------------+\n",
            "only showing top 20 rows\n",
            "\n"
          ]
        }
      ]
    },
    {
      "cell_type": "code",
      "source": [
        "pagerank.write.mode(\"overwrite\").parquet(\"pagerank_scores.parquet\")\n"
      ],
      "metadata": {
        "id": "b3SQnXQn7Lm7"
      },
      "execution_count": null,
      "outputs": []
    },
    {
      "cell_type": "code",
      "source": [
        "pagerank.write.mode(\"overwrite\").parquet(\"MyDrive/pagerank/pagerank_scores.parquet\")\n",
        "# Save as CSV (if you need to open it in Excel etc.)\n",
        "pagerank.write.mode(\"overwrite\").option(\"header\", True).csv(\"pagerank_scores.csv\")\n"
      ],
      "metadata": {
        "id": "WbFyy-ro7nUz"
      },
      "execution_count": null,
      "outputs": []
    },
    {
      "cell_type": "code",
      "source": [
        "#below code is for full data"
      ],
      "metadata": {
        "id": "MY8hXs6HxrvQ"
      },
      "execution_count": null,
      "outputs": []
    },
    {
      "cell_type": "code",
      "source": [
        "#PageRank"
      ],
      "metadata": {
        "id": "oUInFjrXafSr"
      },
      "execution_count": null,
      "outputs": []
    },
    {
      "cell_type": "code",
      "source": [
        "from graphframes import GraphFrame"
      ],
      "metadata": {
        "id": "YvAi7uPGa3mF"
      },
      "execution_count": null,
      "outputs": []
    },
    {
      "cell_type": "code",
      "source": [
        "# Create vertices (unique users)\n",
        "vertices = df.select(F.col(\"user1\").alias(\"id\")).union(df.select(F.col(\"user2\").alias(\"id\"))).distinct()\n",
        "\n",
        "# Create edges (user1 → user2 = a directed transaction)\n",
        "edges = df.select(F.col(\"user1\").alias(\"src\"), F.col(\"user2\").alias(\"dst\"))"
      ],
      "metadata": {
        "id": "v9utsnqZa54w"
      },
      "execution_count": null,
      "outputs": []
    },
    {
      "cell_type": "code",
      "source": [
        "#memory error\n",
        "# g = GraphFrame(vertices, edges)\n",
        "# result = g.pageRank(resetProbability=0.15, maxIter=5)"
      ],
      "metadata": {
        "id": "yut3lLHJa-xP"
      },
      "execution_count": null,
      "outputs": []
    },
    {
      "cell_type": "code",
      "source": [
        "# Filter users with at least 3 connections\n",
        "active_users = edges.groupBy(\"src\").count().filter(\"count >= 3\").select(\"src\")\n",
        "\n",
        "# Join on `src`, disambiguating with aliases\n",
        "filtered_edges = edges.alias(\"e\").join(\n",
        "    active_users.alias(\"a\"), F.col(\"e.src\") == F.col(\"a.src\")\n",
        ").select(\"e.src\", \"e.dst\")"
      ],
      "metadata": {
        "id": "cujyygHxxzVm"
      },
      "execution_count": null,
      "outputs": []
    },
    {
      "cell_type": "code",
      "source": [
        "# Create unique list of users for vertices\n",
        "vertices = edges.select(\"src\").union(edges.select(\"dst\")).distinct().withColumnRenamed(\"src\", \"id\")\n",
        "\n",
        "# Create GraphFrame\n",
        "g = GraphFrame(vertices, edges)"
      ],
      "metadata": {
        "colab": {
          "base_uri": "https://localhost:8080/"
        },
        "id": "q50L_jX-oWUc",
        "outputId": "55c61479-818c-49e1-e1c8-d2d0a769fb09"
      },
      "execution_count": null,
      "outputs": [
        {
          "output_type": "stream",
          "name": "stderr",
          "text": [
            "/usr/local/lib/python3.11/dist-packages/pyspark/sql/dataframe.py:168: UserWarning: DataFrame.sql_ctx is an internal property, and will be removed in future releases. Use DataFrame.sparkSession instead.\n",
            "  warnings.warn(\n"
          ]
        }
      ]
    },
    {
      "cell_type": "code",
      "source": [
        "pagerank_result = g.pageRank(resetProbability=0.15, maxIter=3)\n",
        "pagerank = pagerank_result.vertices.select(\"id\", \"pagerank\")"
      ],
      "metadata": {
        "colab": {
          "base_uri": "https://localhost:8080/",
          "height": 936
        },
        "id": "HuLgEOGsb4J1",
        "outputId": "6c026d91-9996-4497-f648-eff50249da65"
      },
      "execution_count": null,
      "outputs": [
        {
          "output_type": "stream",
          "name": "stderr",
          "text": [
            "ERROR:root:Exception while sending command.\n",
            "Traceback (most recent call last):\n",
            "  File \"/usr/local/lib/python3.11/dist-packages/pyspark/errors/exceptions/captured.py\", line 179, in deco\n",
            "    return f(*a, **kw)\n",
            "           ^^^^^^^^^^^\n",
            "  File \"/usr/local/lib/python3.11/dist-packages/py4j/protocol.py\", line 326, in get_return_value\n",
            "    raise Py4JJavaError(\n",
            "py4j.protocol.Py4JJavaError: <exception str() failed>\n",
            "\n",
            "During handling of the above exception, another exception occurred:\n",
            "\n",
            "Traceback (most recent call last):\n",
            "  File \"/usr/local/lib/python3.11/dist-packages/py4j/clientserver.py\", line 511, in send_command\n",
            "    answer = smart_decode(self.stream.readline()[:-1])\n",
            "                          ^^^^^^^^^^^^^^^^^^^^^^\n",
            "  File \"/usr/lib/python3.11/socket.py\", line 718, in readinto\n",
            "    return self._sock.recv_into(b)\n",
            "           ^^^^^^^^^^^^^^^^^^^^^^^\n",
            "ConnectionResetError: [Errno 104] Connection reset by peer\n",
            "\n",
            "During handling of the above exception, another exception occurred:\n",
            "\n",
            "Traceback (most recent call last):\n",
            "  File \"/usr/local/lib/python3.11/dist-packages/py4j/java_gateway.py\", line 1038, in send_command\n",
            "    response = connection.send_command(command)\n",
            "               ^^^^^^^^^^^^^^^^^^^^^^^^^^^^^^^^\n",
            "  File \"/usr/local/lib/python3.11/dist-packages/py4j/clientserver.py\", line 539, in send_command\n",
            "    raise Py4JNetworkError(\n",
            "py4j.protocol.Py4JNetworkError: Error while sending or receiving\n"
          ]
        },
        {
          "output_type": "error",
          "ename": "Py4JError",
          "evalue": "org.apache.spark does not exist in the JVM",
          "traceback": [
            "\u001b[0;31m---------------------------------------------------------------------------\u001b[0m",
            "\u001b[0;31mPy4JJavaError\u001b[0m                             Traceback (most recent call last)",
            "\u001b[0;32m/usr/local/lib/python3.11/dist-packages/pyspark/errors/exceptions/captured.py\u001b[0m in \u001b[0;36mdeco\u001b[0;34m(*a, **kw)\u001b[0m\n\u001b[1;32m    178\u001b[0m         \u001b[0;32mtry\u001b[0m\u001b[0;34m:\u001b[0m\u001b[0;34m\u001b[0m\u001b[0;34m\u001b[0m\u001b[0m\n\u001b[0;32m--> 179\u001b[0;31m             \u001b[0;32mreturn\u001b[0m \u001b[0mf\u001b[0m\u001b[0;34m(\u001b[0m\u001b[0;34m*\u001b[0m\u001b[0ma\u001b[0m\u001b[0;34m,\u001b[0m \u001b[0;34m**\u001b[0m\u001b[0mkw\u001b[0m\u001b[0;34m)\u001b[0m\u001b[0;34m\u001b[0m\u001b[0;34m\u001b[0m\u001b[0m\n\u001b[0m\u001b[1;32m    180\u001b[0m         \u001b[0;32mexcept\u001b[0m \u001b[0mPy4JJavaError\u001b[0m \u001b[0;32mas\u001b[0m \u001b[0me\u001b[0m\u001b[0;34m:\u001b[0m\u001b[0;34m\u001b[0m\u001b[0;34m\u001b[0m\u001b[0m\n",
            "\u001b[0;32m/usr/local/lib/python3.11/dist-packages/py4j/protocol.py\u001b[0m in \u001b[0;36mget_return_value\u001b[0;34m(answer, gateway_client, target_id, name)\u001b[0m\n\u001b[1;32m    325\u001b[0m             \u001b[0;32mif\u001b[0m \u001b[0manswer\u001b[0m\u001b[0;34m[\u001b[0m\u001b[0;36m1\u001b[0m\u001b[0;34m]\u001b[0m \u001b[0;34m==\u001b[0m \u001b[0mREFERENCE_TYPE\u001b[0m\u001b[0;34m:\u001b[0m\u001b[0;34m\u001b[0m\u001b[0;34m\u001b[0m\u001b[0m\n\u001b[0;32m--> 326\u001b[0;31m                 raise Py4JJavaError(\n\u001b[0m\u001b[1;32m    327\u001b[0m                     \u001b[0;34m\"An error occurred while calling {0}{1}{2}.\\n\"\u001b[0m\u001b[0;34m.\u001b[0m\u001b[0;34m\u001b[0m\u001b[0;34m\u001b[0m\u001b[0m\n",
            "\u001b[0;31m<class 'str'>\u001b[0m: (<class 'ConnectionRefusedError'>, ConnectionRefusedError(111, 'Connection refused'))",
            "\nDuring handling of the above exception, another exception occurred:\n",
            "\u001b[0;31mPy4JError\u001b[0m                                 Traceback (most recent call last)",
            "\u001b[0;32m<ipython-input-62-8eab4f769b81>\u001b[0m in \u001b[0;36m<cell line: 0>\u001b[0;34m()\u001b[0m\n\u001b[0;32m----> 1\u001b[0;31m \u001b[0mpagerank_result\u001b[0m \u001b[0;34m=\u001b[0m \u001b[0mg\u001b[0m\u001b[0;34m.\u001b[0m\u001b[0mpageRank\u001b[0m\u001b[0;34m(\u001b[0m\u001b[0mresetProbability\u001b[0m\u001b[0;34m=\u001b[0m\u001b[0;36m0.15\u001b[0m\u001b[0;34m,\u001b[0m \u001b[0mmaxIter\u001b[0m\u001b[0;34m=\u001b[0m\u001b[0;36m3\u001b[0m\u001b[0;34m)\u001b[0m\u001b[0;34m\u001b[0m\u001b[0;34m\u001b[0m\u001b[0m\n\u001b[0m\u001b[1;32m      2\u001b[0m \u001b[0mpagerank\u001b[0m \u001b[0;34m=\u001b[0m \u001b[0mpagerank_result\u001b[0m\u001b[0;34m.\u001b[0m\u001b[0mvertices\u001b[0m\u001b[0;34m.\u001b[0m\u001b[0mselect\u001b[0m\u001b[0;34m(\u001b[0m\u001b[0;34m\"id\"\u001b[0m\u001b[0;34m,\u001b[0m \u001b[0;34m\"pagerank\"\u001b[0m\u001b[0;34m)\u001b[0m\u001b[0;34m\u001b[0m\u001b[0;34m\u001b[0m\u001b[0m\n",
            "\u001b[0;32m/tmp/spark-c1b9ab31-dffe-4897-9808-cf53902d2468/userFiles-bec453bf-8f0f-4db3-af95-bd0614df86b7/graphframes_graphframes-0.8.2-spark3.2-s_2.12.jar/graphframes/graphframe.py\u001b[0m in \u001b[0;36mpageRank\u001b[0;34m(self, resetProbability, sourceId, maxIter, tol)\u001b[0m\n\u001b[1;32m    369\u001b[0m             \u001b[0;32massert\u001b[0m \u001b[0mtol\u001b[0m \u001b[0;32mis\u001b[0m \u001b[0;32mnot\u001b[0m \u001b[0;32mNone\u001b[0m\u001b[0;34m,\u001b[0m \u001b[0;34m\"Exactly one of maxIter or tol should be set.\"\u001b[0m\u001b[0;34m\u001b[0m\u001b[0;34m\u001b[0m\u001b[0m\n\u001b[1;32m    370\u001b[0m             \u001b[0mbuilder\u001b[0m \u001b[0;34m=\u001b[0m \u001b[0mbuilder\u001b[0m\u001b[0;34m.\u001b[0m\u001b[0mtol\u001b[0m\u001b[0;34m(\u001b[0m\u001b[0mtol\u001b[0m\u001b[0;34m)\u001b[0m\u001b[0;34m\u001b[0m\u001b[0;34m\u001b[0m\u001b[0m\n\u001b[0;32m--> 371\u001b[0;31m         \u001b[0mjgf\u001b[0m \u001b[0;34m=\u001b[0m \u001b[0mbuilder\u001b[0m\u001b[0;34m.\u001b[0m\u001b[0mrun\u001b[0m\u001b[0;34m(\u001b[0m\u001b[0;34m)\u001b[0m\u001b[0;34m\u001b[0m\u001b[0;34m\u001b[0m\u001b[0m\n\u001b[0m\u001b[1;32m    372\u001b[0m         \u001b[0;32mreturn\u001b[0m \u001b[0m_from_java_gf\u001b[0m\u001b[0;34m(\u001b[0m\u001b[0mjgf\u001b[0m\u001b[0;34m,\u001b[0m \u001b[0mself\u001b[0m\u001b[0;34m.\u001b[0m\u001b[0m_sqlContext\u001b[0m\u001b[0;34m)\u001b[0m\u001b[0;34m\u001b[0m\u001b[0;34m\u001b[0m\u001b[0m\n\u001b[1;32m    373\u001b[0m \u001b[0;34m\u001b[0m\u001b[0m\n",
            "\u001b[0;32m/usr/local/lib/python3.11/dist-packages/py4j/java_gateway.py\u001b[0m in \u001b[0;36m__call__\u001b[0;34m(self, *args)\u001b[0m\n\u001b[1;32m   1320\u001b[0m \u001b[0;34m\u001b[0m\u001b[0m\n\u001b[1;32m   1321\u001b[0m         \u001b[0manswer\u001b[0m \u001b[0;34m=\u001b[0m \u001b[0mself\u001b[0m\u001b[0;34m.\u001b[0m\u001b[0mgateway_client\u001b[0m\u001b[0;34m.\u001b[0m\u001b[0msend_command\u001b[0m\u001b[0;34m(\u001b[0m\u001b[0mcommand\u001b[0m\u001b[0;34m)\u001b[0m\u001b[0;34m\u001b[0m\u001b[0;34m\u001b[0m\u001b[0m\n\u001b[0;32m-> 1322\u001b[0;31m         return_value = get_return_value(\n\u001b[0m\u001b[1;32m   1323\u001b[0m             answer, self.gateway_client, self.target_id, self.name)\n\u001b[1;32m   1324\u001b[0m \u001b[0;34m\u001b[0m\u001b[0m\n",
            "\u001b[0;32m/usr/local/lib/python3.11/dist-packages/pyspark/errors/exceptions/captured.py\u001b[0m in \u001b[0;36mdeco\u001b[0;34m(*a, **kw)\u001b[0m\n\u001b[1;32m    179\u001b[0m             \u001b[0;32mreturn\u001b[0m \u001b[0mf\u001b[0m\u001b[0;34m(\u001b[0m\u001b[0;34m*\u001b[0m\u001b[0ma\u001b[0m\u001b[0;34m,\u001b[0m \u001b[0;34m**\u001b[0m\u001b[0mkw\u001b[0m\u001b[0;34m)\u001b[0m\u001b[0;34m\u001b[0m\u001b[0;34m\u001b[0m\u001b[0m\n\u001b[1;32m    180\u001b[0m         \u001b[0;32mexcept\u001b[0m \u001b[0mPy4JJavaError\u001b[0m \u001b[0;32mas\u001b[0m \u001b[0me\u001b[0m\u001b[0;34m:\u001b[0m\u001b[0;34m\u001b[0m\u001b[0;34m\u001b[0m\u001b[0m\n\u001b[0;32m--> 181\u001b[0;31m             \u001b[0mconverted\u001b[0m \u001b[0;34m=\u001b[0m \u001b[0mconvert_exception\u001b[0m\u001b[0;34m(\u001b[0m\u001b[0me\u001b[0m\u001b[0;34m.\u001b[0m\u001b[0mjava_exception\u001b[0m\u001b[0;34m)\u001b[0m\u001b[0;34m\u001b[0m\u001b[0;34m\u001b[0m\u001b[0m\n\u001b[0m\u001b[1;32m    182\u001b[0m             \u001b[0;32mif\u001b[0m \u001b[0;32mnot\u001b[0m \u001b[0misinstance\u001b[0m\u001b[0;34m(\u001b[0m\u001b[0mconverted\u001b[0m\u001b[0;34m,\u001b[0m \u001b[0mUnknownException\u001b[0m\u001b[0;34m)\u001b[0m\u001b[0;34m:\u001b[0m\u001b[0;34m\u001b[0m\u001b[0;34m\u001b[0m\u001b[0m\n\u001b[1;32m    183\u001b[0m                 \u001b[0;31m# Hide where the exception came from that shows a non-Pythonic\u001b[0m\u001b[0;34m\u001b[0m\u001b[0;34m\u001b[0m\u001b[0m\n",
            "\u001b[0;32m/usr/local/lib/python3.11/dist-packages/pyspark/errors/exceptions/captured.py\u001b[0m in \u001b[0;36mconvert_exception\u001b[0;34m(e)\u001b[0m\n\u001b[1;32m    171\u001b[0m         \u001b[0;32mreturn\u001b[0m \u001b[0mPythonException\u001b[0m\u001b[0;34m(\u001b[0m\u001b[0mmsg\u001b[0m\u001b[0;34m,\u001b[0m \u001b[0mstacktrace\u001b[0m\u001b[0;34m)\u001b[0m\u001b[0;34m\u001b[0m\u001b[0;34m\u001b[0m\u001b[0m\n\u001b[1;32m    172\u001b[0m \u001b[0;34m\u001b[0m\u001b[0m\n\u001b[0;32m--> 173\u001b[0;31m     \u001b[0;32mreturn\u001b[0m \u001b[0mUnknownException\u001b[0m\u001b[0;34m(\u001b[0m\u001b[0mdesc\u001b[0m\u001b[0;34m=\u001b[0m\u001b[0me\u001b[0m\u001b[0;34m.\u001b[0m\u001b[0mtoString\u001b[0m\u001b[0;34m(\u001b[0m\u001b[0;34m)\u001b[0m\u001b[0;34m,\u001b[0m \u001b[0mstackTrace\u001b[0m\u001b[0;34m=\u001b[0m\u001b[0mstacktrace\u001b[0m\u001b[0;34m,\u001b[0m \u001b[0mcause\u001b[0m\u001b[0;34m=\u001b[0m\u001b[0mc\u001b[0m\u001b[0;34m)\u001b[0m\u001b[0;34m\u001b[0m\u001b[0;34m\u001b[0m\u001b[0m\n\u001b[0m\u001b[1;32m    174\u001b[0m \u001b[0;34m\u001b[0m\u001b[0m\n\u001b[1;32m    175\u001b[0m \u001b[0;34m\u001b[0m\u001b[0m\n",
            "\u001b[0;32m/usr/local/lib/python3.11/dist-packages/pyspark/errors/exceptions/captured.py\u001b[0m in \u001b[0;36m__init__\u001b[0;34m(self, desc, stackTrace, cause, origin)\u001b[0m\n\u001b[1;32m     63\u001b[0m             \u001b[0;32melse\u001b[0m \u001b[0;34m(\u001b[0m\u001b[0mSparkContext\u001b[0m\u001b[0;34m.\u001b[0m\u001b[0m_jvm\u001b[0m\u001b[0;34m.\u001b[0m\u001b[0morg\u001b[0m\u001b[0;34m.\u001b[0m\u001b[0mapache\u001b[0m\u001b[0;34m.\u001b[0m\u001b[0mspark\u001b[0m\u001b[0;34m.\u001b[0m\u001b[0mutil\u001b[0m\u001b[0;34m.\u001b[0m\u001b[0mUtils\u001b[0m\u001b[0;34m.\u001b[0m\u001b[0mexceptionString\u001b[0m\u001b[0;34m(\u001b[0m\u001b[0morigin\u001b[0m\u001b[0;34m)\u001b[0m\u001b[0;34m)\u001b[0m\u001b[0;34m\u001b[0m\u001b[0;34m\u001b[0m\u001b[0m\n\u001b[1;32m     64\u001b[0m         )\n\u001b[0;32m---> 65\u001b[0;31m         \u001b[0mself\u001b[0m\u001b[0;34m.\u001b[0m\u001b[0mcause\u001b[0m \u001b[0;34m=\u001b[0m \u001b[0mconvert_exception\u001b[0m\u001b[0;34m(\u001b[0m\u001b[0mcause\u001b[0m\u001b[0;34m)\u001b[0m \u001b[0;32mif\u001b[0m \u001b[0mcause\u001b[0m \u001b[0;32mis\u001b[0m \u001b[0;32mnot\u001b[0m \u001b[0;32mNone\u001b[0m \u001b[0;32melse\u001b[0m \u001b[0;32mNone\u001b[0m\u001b[0;34m\u001b[0m\u001b[0;34m\u001b[0m\u001b[0m\n\u001b[0m\u001b[1;32m     66\u001b[0m         \u001b[0;32mif\u001b[0m \u001b[0mself\u001b[0m\u001b[0;34m.\u001b[0m\u001b[0mcause\u001b[0m \u001b[0;32mis\u001b[0m \u001b[0;32mNone\u001b[0m \u001b[0;32mand\u001b[0m \u001b[0morigin\u001b[0m \u001b[0;32mis\u001b[0m \u001b[0;32mnot\u001b[0m \u001b[0;32mNone\u001b[0m \u001b[0;32mand\u001b[0m \u001b[0morigin\u001b[0m\u001b[0;34m.\u001b[0m\u001b[0mgetCause\u001b[0m\u001b[0;34m(\u001b[0m\u001b[0;34m)\u001b[0m \u001b[0;32mis\u001b[0m \u001b[0;32mnot\u001b[0m \u001b[0;32mNone\u001b[0m\u001b[0;34m:\u001b[0m\u001b[0;34m\u001b[0m\u001b[0;34m\u001b[0m\u001b[0m\n\u001b[1;32m     67\u001b[0m             \u001b[0mself\u001b[0m\u001b[0;34m.\u001b[0m\u001b[0mcause\u001b[0m \u001b[0;34m=\u001b[0m \u001b[0mconvert_exception\u001b[0m\u001b[0;34m(\u001b[0m\u001b[0morigin\u001b[0m\u001b[0;34m.\u001b[0m\u001b[0mgetCause\u001b[0m\u001b[0;34m(\u001b[0m\u001b[0;34m)\u001b[0m\u001b[0;34m)\u001b[0m\u001b[0;34m\u001b[0m\u001b[0;34m\u001b[0m\u001b[0m\n",
            "\u001b[0;32m/usr/local/lib/python3.11/dist-packages/pyspark/errors/exceptions/captured.py\u001b[0m in \u001b[0;36mconvert_exception\u001b[0;34m(e)\u001b[0m\n\u001b[1;32m    155\u001b[0m \u001b[0;34m\u001b[0m\u001b[0m\n\u001b[1;32m    156\u001b[0m     \u001b[0mc\u001b[0m\u001b[0;34m:\u001b[0m \u001b[0mPy4JJavaError\u001b[0m \u001b[0;34m=\u001b[0m \u001b[0me\u001b[0m\u001b[0;34m.\u001b[0m\u001b[0mgetCause\u001b[0m\u001b[0;34m(\u001b[0m\u001b[0;34m)\u001b[0m\u001b[0;34m\u001b[0m\u001b[0;34m\u001b[0m\u001b[0m\n\u001b[0;32m--> 157\u001b[0;31m     \u001b[0mstacktrace\u001b[0m\u001b[0;34m:\u001b[0m \u001b[0mstr\u001b[0m \u001b[0;34m=\u001b[0m \u001b[0mjvm\u001b[0m\u001b[0;34m.\u001b[0m\u001b[0morg\u001b[0m\u001b[0;34m.\u001b[0m\u001b[0mapache\u001b[0m\u001b[0;34m.\u001b[0m\u001b[0mspark\u001b[0m\u001b[0;34m.\u001b[0m\u001b[0mutil\u001b[0m\u001b[0;34m.\u001b[0m\u001b[0mUtils\u001b[0m\u001b[0;34m.\u001b[0m\u001b[0mexceptionString\u001b[0m\u001b[0;34m(\u001b[0m\u001b[0me\u001b[0m\u001b[0;34m)\u001b[0m\u001b[0;34m\u001b[0m\u001b[0;34m\u001b[0m\u001b[0m\n\u001b[0m\u001b[1;32m    158\u001b[0m     if c is not None and (\n\u001b[1;32m    159\u001b[0m         \u001b[0mis_instance_of\u001b[0m\u001b[0;34m(\u001b[0m\u001b[0mgw\u001b[0m\u001b[0;34m,\u001b[0m \u001b[0mc\u001b[0m\u001b[0;34m,\u001b[0m \u001b[0;34m\"org.apache.spark.api.python.PythonException\"\u001b[0m\u001b[0;34m)\u001b[0m\u001b[0;34m\u001b[0m\u001b[0;34m\u001b[0m\u001b[0m\n",
            "\u001b[0;32m/usr/local/lib/python3.11/dist-packages/py4j/java_gateway.py\u001b[0m in \u001b[0;36m__getattr__\u001b[0;34m(self, name)\u001b[0m\n\u001b[1;32m   1662\u001b[0m                 answer[proto.CLASS_FQN_START:], self._gateway_client)\n\u001b[1;32m   1663\u001b[0m         \u001b[0;32melse\u001b[0m\u001b[0;34m:\u001b[0m\u001b[0;34m\u001b[0m\u001b[0;34m\u001b[0m\u001b[0m\n\u001b[0;32m-> 1664\u001b[0;31m             \u001b[0;32mraise\u001b[0m \u001b[0mPy4JError\u001b[0m\u001b[0;34m(\u001b[0m\u001b[0;34m\"{0} does not exist in the JVM\"\u001b[0m\u001b[0;34m.\u001b[0m\u001b[0mformat\u001b[0m\u001b[0;34m(\u001b[0m\u001b[0mnew_fqn\u001b[0m\u001b[0;34m)\u001b[0m\u001b[0;34m)\u001b[0m\u001b[0;34m\u001b[0m\u001b[0;34m\u001b[0m\u001b[0m\n\u001b[0m\u001b[1;32m   1665\u001b[0m \u001b[0;34m\u001b[0m\u001b[0m\n\u001b[1;32m   1666\u001b[0m \u001b[0;34m\u001b[0m\u001b[0m\n",
            "\u001b[0;31mPy4JError\u001b[0m: org.apache.spark does not exist in the JVM"
          ]
        }
      ]
    },
    {
      "cell_type": "code",
      "source": [],
      "metadata": {
        "id": "3773mphMxB0_"
      },
      "execution_count": null,
      "outputs": []
    }
  ]
}